{
 "cells": [
  {
   "cell_type": "markdown",
   "metadata": {},
   "source": [
    "# Compare MSE and MSLE objectives"
   ]
  },
  {
   "cell_type": "code",
   "execution_count": 1,
   "metadata": {},
   "outputs": [],
   "source": [
    "import numpy as np\n",
    "import xgboost as xgb\n",
    "from typing import Tuple\n",
    "import pandas as pd\n",
    "from sklearn.model_selection import train_test_split\n",
    "from sklearn import metrics\n",
    "\n",
    "from matplotlib import pylab as pl\n",
    "import seaborn as sns"
   ]
  },
  {
   "cell_type": "code",
   "execution_count": 2,
   "metadata": {},
   "outputs": [],
   "source": [
    "X = pd.read_csv('data/housesalesprediction/kc_house_data.csv')\n",
    "\n",
    "y = np.array(X['price'])\n",
    "\n",
    "X.drop(columns=['id', 'date', 'price', 'zipcode', 'lat', 'long', 'sqft_living15',\n",
    "       'sqft_lot15'], inplace=True) # the last once just to keep training faster\n",
    "\n",
    "X_train, X_test, y_train, y_test = train_test_split(X, y, test_size=0.2, random_state=42)\n",
    "\n",
    "dtrain = xgb.DMatrix(X_train, label=y_train)\n",
    "dtest = xgb.DMatrix(X_test, label=y_test)\n",
    "\n",
    "dtrain2 = xgb.DMatrix(X_train, label=np.log1p(y_train))\n",
    "dtest2 = xgb.DMatrix(X_test, label=np.log1p(y_test))"
   ]
  },
  {
   "cell_type": "code",
   "execution_count": 8,
   "metadata": {},
   "outputs": [
    {
     "data": {
      "text/plain": [
       "75000.0"
      ]
     },
     "execution_count": 8,
     "metadata": {},
     "output_type": "execute_result"
    }
   ],
   "source": [
    "np.min(y)"
   ]
  },
  {
   "cell_type": "code",
   "execution_count": 5,
   "metadata": {
    "scrolled": true
   },
   "outputs": [
    {
     "data": {
      "text/plain": [
       "(0, 100000.0)"
      ]
     },
     "execution_count": 5,
     "metadata": {},
     "output_type": "execute_result"
    },
    {
     "data": {
      "image/png": "[encoded data removed]",
      "text/plain": [
       "<Figure size 432x288 with 1 Axes>"
      ]
     },
     "metadata": {
      "needs_background": "light"
     },
     "output_type": "display_data"
    }
   ],
   "source": [
    "sns.distplot(y, kde=True, hist=False)\n",
    "pl.title('Target distribution')\n",
    "pl.xlim((0,1e5))"
   ]
  },
  {
   "cell_type": "code",
   "execution_count": 7,
   "metadata": {},
   "outputs": [
    {
     "name": "stdout",
     "output_type": "stream",
     "text": [
      "[0]\tdtrain-rmse:8.79266\tdtest-rmse:8.80391\n",
      "[1]\tdtrain-rmse:6.15936\tdtest-rmse:6.16935\n",
      "[2]\tdtrain-rmse:4.31759\tdtest-rmse:4.32684\n",
      "[3]\tdtrain-rmse:3.03061\tdtest-rmse:3.03876\n",
      "[4]\tdtrain-rmse:2.13275\tdtest-rmse:2.14057\n",
      "[5]\tdtrain-rmse:1.50875\tdtest-rmse:1.51570\n",
      "[6]\tdtrain-rmse:1.07797\tdtest-rmse:1.08495\n",
      "[7]\tdtrain-rmse:0.78443\tdtest-rmse:0.79217\n",
      "[8]\tdtrain-rmse:0.58864\tdtest-rmse:0.59720\n",
      "[9]\tdtrain-rmse:0.46324\tdtest-rmse:0.47237\n",
      "[10]\tdtrain-rmse:0.38667\tdtest-rmse:0.39650\n",
      "[11]\tdtrain-rmse:0.34250\tdtest-rmse:0.35267\n",
      "[12]\tdtrain-rmse:0.31779\tdtest-rmse:0.32829\n",
      "[13]\tdtrain-rmse:0.30491\tdtest-rmse:0.31547\n",
      "[14]\tdtrain-rmse:0.29739\tdtest-rmse:0.30844\n",
      "[15]\tdtrain-rmse:0.29330\tdtest-rmse:0.30451\n",
      "[16]\tdtrain-rmse:0.29090\tdtest-rmse:0.30235\n",
      "[17]\tdtrain-rmse:0.28945\tdtest-rmse:0.30128\n",
      "[18]\tdtrain-rmse:0.28860\tdtest-rmse:0.30089\n",
      "[19]\tdtrain-rmse:0.28797\tdtest-rmse:0.30051\n",
      "[20]\tdtrain-rmse:0.28719\tdtest-rmse:0.29993\n",
      "[21]\tdtrain-rmse:0.28636\tdtest-rmse:0.29940\n",
      "[22]\tdtrain-rmse:0.28586\tdtest-rmse:0.29937\n",
      "[23]\tdtrain-rmse:0.28543\tdtest-rmse:0.29916\n",
      "[24]\tdtrain-rmse:0.28500\tdtest-rmse:0.29900\n",
      "[25]\tdtrain-rmse:0.28440\tdtest-rmse:0.29888\n",
      "[26]\tdtrain-rmse:0.28399\tdtest-rmse:0.29871\n",
      "[27]\tdtrain-rmse:0.28357\tdtest-rmse:0.29858\n",
      "[28]\tdtrain-rmse:0.28276\tdtest-rmse:0.29808\n",
      "[29]\tdtrain-rmse:0.28242\tdtest-rmse:0.29801\n",
      "[30]\tdtrain-rmse:0.28219\tdtest-rmse:0.29807\n",
      "[31]\tdtrain-rmse:0.28163\tdtest-rmse:0.29814\n",
      "[32]\tdtrain-rmse:0.28137\tdtest-rmse:0.29821\n",
      "[33]\tdtrain-rmse:0.28089\tdtest-rmse:0.29814\n",
      "[34]\tdtrain-rmse:0.28055\tdtest-rmse:0.29820\n",
      "[35]\tdtrain-rmse:0.28017\tdtest-rmse:0.29797\n",
      "[36]\tdtrain-rmse:0.27996\tdtest-rmse:0.29781\n",
      "[37]\tdtrain-rmse:0.27968\tdtest-rmse:0.29781\n",
      "[38]\tdtrain-rmse:0.27947\tdtest-rmse:0.29768\n",
      "[39]\tdtrain-rmse:0.27925\tdtest-rmse:0.29761\n",
      "[40]\tdtrain-rmse:0.27901\tdtest-rmse:0.29743\n",
      "[41]\tdtrain-rmse:0.27855\tdtest-rmse:0.29729\n",
      "[42]\tdtrain-rmse:0.27827\tdtest-rmse:0.29729\n",
      "[43]\tdtrain-rmse:0.27806\tdtest-rmse:0.29723\n",
      "[44]\tdtrain-rmse:0.27767\tdtest-rmse:0.29712\n",
      "[45]\tdtrain-rmse:0.27745\tdtest-rmse:0.29712\n",
      "[46]\tdtrain-rmse:0.27718\tdtest-rmse:0.29700\n",
      "[47]\tdtrain-rmse:0.27705\tdtest-rmse:0.29721\n",
      "[48]\tdtrain-rmse:0.27673\tdtest-rmse:0.29723\n",
      "[49]\tdtrain-rmse:0.27627\tdtest-rmse:0.29694\n"
     ]
    }
   ],
   "source": [
    "# we simulated MSLE by running MSE on scaled values\n",
    "# for some reason it leads to far better results than running xgboost implmemented MSLE\n",
    "msle_model = xgb.train({'tree_method': 'hist', 'seed': 1994,\n",
    "               'eta': 0.3, 'objective': 'reg:squarederror', 'lambda': 0.0, 'max_depth':4},\n",
    "              dtrain=dtrain2,\n",
    "              num_boost_round=50,\n",
    "              evals=[(dtrain2, 'dtrain'), (dtest2, 'dtest')])"
   ]
  },
  {
   "cell_type": "code",
   "execution_count": 4,
   "metadata": {},
   "outputs": [
    {
     "name": "stdout",
     "output_type": "stream",
     "text": [
      "[0]\tdtrain-rmse:477060.46875\tdtest-rmse:499607.50000\n",
      "[1]\tdtrain-rmse:362312.75000\tdtest-rmse:385633.87500\n",
      "[2]\tdtrain-rmse:286888.78125\tdtest-rmse:315179.75000\n",
      "[3]\tdtrain-rmse:238987.76562\tdtest-rmse:272450.96875\n",
      "[4]\tdtrain-rmse:208791.82812\tdtest-rmse:248554.07812\n",
      "[5]\tdtrain-rmse:189845.95312\tdtest-rmse:238422.46875\n",
      "[6]\tdtrain-rmse:178482.60938\tdtest-rmse:231356.23438\n",
      "[7]\tdtrain-rmse:171725.82812\tdtest-rmse:226674.76562\n",
      "[8]\tdtrain-rmse:166437.71875\tdtest-rmse:225784.78125\n",
      "[9]\tdtrain-rmse:163715.89062\tdtest-rmse:226337.07812\n",
      "[10]\tdtrain-rmse:161339.09375\tdtest-rmse:226446.01562\n",
      "[11]\tdtrain-rmse:160052.76562\tdtest-rmse:227273.17188\n",
      "[12]\tdtrain-rmse:158450.17188\tdtest-rmse:228757.01562\n",
      "[13]\tdtrain-rmse:156957.07812\tdtest-rmse:229436.76562\n",
      "[14]\tdtrain-rmse:156213.23438\tdtest-rmse:228902.78125\n",
      "[15]\tdtrain-rmse:154983.31250\tdtest-rmse:228590.21875\n",
      "[16]\tdtrain-rmse:153615.31250\tdtest-rmse:228964.06250\n",
      "[17]\tdtrain-rmse:152768.25000\tdtest-rmse:229179.07812\n",
      "[18]\tdtrain-rmse:151555.67188\tdtest-rmse:229123.32812\n",
      "[19]\tdtrain-rmse:150379.04688\tdtest-rmse:228992.26562\n"
     ]
    }
   ],
   "source": [
    "mse_model = xgb.train({'tree_method': 'hist', 'seed': 1994,\n",
    "               'eta': 0.3, 'objective': 'reg:squarederror'},\n",
    "              dtrain=dtrain,\n",
    "              num_boost_round=20,\n",
    "              evals=[(dtrain, 'dtrain'), (dtest, 'dtest')])"
   ]
  },
  {
   "cell_type": "markdown",
   "metadata": {},
   "source": [
    "## What to expect?\n"
   ]
  },
  {
   "cell_type": "code",
   "execution_count": 15,
   "metadata": {},
   "outputs": [
    {
     "name": "stdout",
     "output_type": "stream",
     "text": [
      "MSLE metric:\tMSLE model 8.723e-02\tMSE model 9.225e-02\n",
      "MSE metric:\tMSLE model 4.577e+10\tMSE model 5.244e+10\n",
      "MAE metric:\tMSLE model 1.263e+05\tMSE model 1.307e+05\n"
     ]
    }
   ],
   "source": [
    "predict_msle = np.exp(msle_model.predict(dtest2))-1\n",
    "\n",
    "label = dtest.get_label()\n",
    "\n",
    "predict_mse = mse_model.predict(dtest)\n",
    "\n",
    "abs_res_msle = np.abs(label-predict_msle)\n",
    "abs_res_mse = np.abs(label-predict_mse)\n",
    "\n",
    "print('MSLE metric:\\tMSLE model {msle:.3e}\\tMSE model {mse:.3e}'.format(\n",
    "    msle=metrics.mean_squared_log_error(label, predict_msle),\n",
    "    mse=metrics.mean_squared_log_error(label, predict_mse),\n",
    "))\n",
    "print('MSE metric:\\tMSLE model {msle:.3e}\\tMSE model {mse:.3e}'.format(\n",
    "    msle=metrics.mean_squared_error(label, predict_msle),\n",
    "    mse=metrics.mean_squared_error(label, predict_mse),\n",
    "))\n",
    "print('MAE metric:\\tMSLE model {msle:.3e}\\tMSE model {mse:.3e}'.format(\n",
    "    msle=metrics.mean_absolute_error(label, predict_msle),\n",
    "    mse=metrics.mean_absolute_error(label, predict_mse),\n",
    "))\n"
   ]
  },
  {
   "cell_type": "code",
   "execution_count": 6,
   "metadata": {},
   "outputs": [
    {
     "data": {
      "image/png": "[encoded data removed]",
      "text/plain": [
       "<Figure size 432x288 with 1 Axes>"
      ]
     },
     "metadata": {
      "needs_background": "light"
     },
     "output_type": "display_data"
    }
   ],
   "source": [
    "sns.distplot(abs_res_msle, hist=False, kde=True, color='green', label='msle')\n",
    "sns.distplot(abs_res_mse, hist=False, kde=True, color='red', label='mse')\n",
    "pl.xscale('log')"
   ]
  },
  {
   "cell_type": "markdown",
   "metadata": {},
   "source": [
    "\n",
    "MSE seems to lead generally to smaller residuals. However, we expect MSLE to perform better on small residuals, while MSE should perform better on large residuals."
   ]
  },
  {
   "cell_type": "code",
   "execution_count": 8,
   "metadata": {},
   "outputs": [
    {
     "data": {
      "text/plain": [
       "<matplotlib.legend.Legend at 0x7f2130475518>"
      ]
     },
     "execution_count": 8,
     "metadata": {},
     "output_type": "execute_result"
    },
    {
     "data": {
      "image/png": "[encoded data removed]",
      "text/plain": [
       "<Figure size 432x288 with 1 Axes>"
      ]
     },
     "metadata": {
      "needs_background": "light"
     },
     "output_type": "display_data"
    }
   ],
   "source": [
    "from scipy.ndimage.filters import gaussian_filter1d, median_filter\n",
    "\n",
    "abs_res_msle_sorted = abs_res_msle[np.argsort(label)]\n",
    "abs_res_mse_sorted = abs_res_mse[np.argsort(label)]\n",
    "label_sorted = np.sort(label)\n",
    "\n",
    "# use median filter to smooth residuals and see the trend.\n",
    "pl.plot(label_sorted, median_filter(abs_res_msle_sorted,  size=200), 'g-', label='msle')\n",
    "pl.plot(label_sorted, median_filter(abs_res_mse_sorted,  size=200), 'r-', label='mse')\n",
    "\n",
    "pl.xscale('log')\n",
    "pl.xlabel('target')\n",
    "pl.ylabel(r'$\\|res\\|$')\n",
    "pl.legend()"
   ]
  },
  {
   "cell_type": "markdown",
   "metadata": {},
   "source": [
    "Horray!"
   ]
  }
 ],
 "metadata": {
  "kernelspec": {
   "display_name": "Python 3",
   "language": "python",
   "name": "python3"
  },
  "language_info": {
   "codemirror_mode": {
    "name": "ipython",
    "version": 3
   },
   "file_extension": ".py",
   "mimetype": "text/x-python",
   "name": "python",
   "nbconvert_exporter": "python",
   "pygments_lexer": "ipython3",
   "version": "3.6.9"
  }
 },
 "nbformat": 4,
 "nbformat_minor": 4
}
