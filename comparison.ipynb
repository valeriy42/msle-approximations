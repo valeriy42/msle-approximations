{
 "cells": [
  {
   "cell_type": "markdown",
   "metadata": {},
   "source": [
    "# Boiler Plate\n",
    "\n",
    "Following the schema at https://xgboost.readthedocs.io/en/latest/tutorials/custom_metric_obj.html"
   ]
  },
  {
   "cell_type": "code",
   "execution_count": 1,
   "metadata": {},
   "outputs": [],
   "source": [
    "import numpy as np\n",
    "import xgboost as xgb\n",
    "from typing import Tuple\n",
    "import pandas as pd\n",
    "from sklearn.model_selection import train_test_split"
   ]
  },
  {
   "cell_type": "code",
   "execution_count": 2,
   "metadata": {},
   "outputs": [],
   "source": [
    "def msle(predt: np.ndarray, dtrain: xgb.DMatrix) -> Tuple[str, float]:\n",
    "    ''' Mean squared log error metric.'''\n",
    "    y = dtrain.get_label()\n",
    "    predt[predt < -1] = -1 + 1e-6\n",
    "    elements = np.power(np.log1p(y) - np.log1p(predt), 2)\n",
    "    return 'MSLE', float(np.mean(elements))\n",
    "\n",
    "def evaluate(hessian):\n",
    "    def gradient(predt: np.ndarray, dtrain: xgb.DMatrix) -> np.ndarray:\n",
    "        '''Compute the gradient squared log error.'''\n",
    "        y = dtrain.get_label()\n",
    "        return (np.log1p(predt) - np.log1p(y)) / (predt + 1)\n",
    "\n",
    "    def squared_log(predt: np.ndarray,\n",
    "                    dtrain: xgb.DMatrix) -> Tuple[np.ndarray, np.ndarray]:\n",
    "        '''Squared Log Error objective. A simplified version for RMSLE used as\n",
    "        objective function.\n",
    "        '''\n",
    "        predt[predt < -1] = -1 + 1e-6\n",
    "        grad = gradient(predt, dtrain)\n",
    "        hess = hessian(predt, dtrain)\n",
    "        return grad, hess\n",
    "    \n",
    "    results = {}\n",
    "\n",
    "    xgb.train({'tree_method': 'hist', 'seed': 1994,\n",
    "               'disable_default_eval_metric': 1},\n",
    "              dtrain=dtrain,\n",
    "              num_boost_round=10,\n",
    "              obj=squared_log,\n",
    "              feval=msle,\n",
    "              evals=[(dtrain, 'dtrain'), (dtest, 'dtest')],\n",
    "              evals_result=results)\n",
    "    return results"
   ]
  },
  {
   "cell_type": "code",
   "execution_count": 3,
   "metadata": {},
   "outputs": [],
   "source": [
    "X = pd.read_csv('data/housesalesprediction/kc_house_data.csv')\n",
    "\n",
    "y = np.array(X['price'])\n",
    "\n",
    "X.drop(columns=['id', 'date', 'price', 'zipcode', 'lat', 'long', 'sqft_living15',\n",
    "       'sqft_lot15'], inplace=True) # the last once just to keep training faster\n",
    "\n",
    "X_train, X_test, y_train, y_test = train_test_split(X, y, test_size=0.2, random_state=42)\n",
    "\n",
    "dtrain = xgb.DMatrix(X_train, label=y_train)\n",
    "dtest = xgb.DMatrix(X_test, label=y_test)"
   ]
  },
  {
   "cell_type": "markdown",
   "metadata": {},
   "source": [
    "# Approximation using Taylor expension"
   ]
  },
  {
   "cell_type": "code",
   "execution_count": 4,
   "metadata": {},
   "outputs": [],
   "source": [
    "def hessian_taylor(predt: np.ndarray, dtrain: xgb.DMatrix) -> np.ndarray:\n",
    "    '''Compute the hessian for squared log error.'''\n",
    "    y = dtrain.get_label()\n",
    "    return ((-np.log1p(predt) + np.log1p(y) + 1) /\n",
    "            np.power(predt + 1, 2))"
   ]
  },
  {
   "cell_type": "code",
   "execution_count": 5,
   "metadata": {
    "scrolled": true
   },
   "outputs": [
    {
     "name": "stdout",
     "output_type": "stream",
     "text": [
      "[0]\tdtrain-MSLE:153.897\tdtest-MSLE:154.235\n",
      "[1]\tdtrain-MSLE:147.884\tdtest-MSLE:148.216\n",
      "[2]\tdtrain-MSLE:141.999\tdtest-MSLE:142.324\n",
      "[3]\tdtrain-MSLE:136.242\tdtest-MSLE:136.561\n",
      "[4]\tdtrain-MSLE:130.612\tdtest-MSLE:130.925\n",
      "[5]\tdtrain-MSLE:125.11\tdtest-MSLE:125.416\n",
      "[6]\tdtrain-MSLE:119.735\tdtest-MSLE:120.034\n",
      "[7]\tdtrain-MSLE:114.487\tdtest-MSLE:114.78\n",
      "[8]\tdtrain-MSLE:109.367\tdtest-MSLE:109.654\n",
      "[9]\tdtrain-MSLE:104.374\tdtest-MSLE:104.655\n"
     ]
    }
   ],
   "source": [
    "taylor = evaluate(hessian_taylor)"
   ]
  },
  {
   "cell_type": "markdown",
   "metadata": {},
   "source": [
    "# Quadratic Apprixmation 1"
   ]
  },
  {
   "cell_type": "code",
   "execution_count": 6,
   "metadata": {},
   "outputs": [],
   "source": [
    "def hessian_approx1(predt: np.ndarray, dtrain: xgb.DMatrix) -> np.ndarray:\n",
    "    '''Compute the hessian for squared log error.'''\n",
    "    y = dtrain.get_label()\n",
    "    return ((np.log1p(predt) - np.log1p(y)) /\n",
    "            ((predt+1)*(predt-y)))"
   ]
  },
  {
   "cell_type": "code",
   "execution_count": 7,
   "metadata": {
    "scrolled": true
   },
   "outputs": [
    {
     "name": "stdout",
     "output_type": "stream",
     "text": [
      "[0]\tdtrain-MSLE:7.35528\tdtest-MSLE:7.4356\n",
      "[1]\tdtrain-MSLE:7.35521\tdtest-MSLE:7.43553\n",
      "[2]\tdtrain-MSLE:7.35514\tdtest-MSLE:7.43546\n",
      "[3]\tdtrain-MSLE:7.35507\tdtest-MSLE:7.43539\n",
      "[4]\tdtrain-MSLE:7.355\tdtest-MSLE:7.43532\n",
      "[5]\tdtrain-MSLE:7.35493\tdtest-MSLE:7.43525\n",
      "[6]\tdtrain-MSLE:7.35486\tdtest-MSLE:7.43518\n",
      "[7]\tdtrain-MSLE:7.35479\tdtest-MSLE:7.43511\n",
      "[8]\tdtrain-MSLE:7.35472\tdtest-MSLE:7.43504\n",
      "[9]\tdtrain-MSLE:7.35465\tdtest-MSLE:7.43497\n"
     ]
    }
   ],
   "source": [
    "approx1 = evaluate(hessian_approx1)"
   ]
  },
  {
   "cell_type": "markdown",
   "metadata": {},
   "source": [
    "# Quadratic Apprixmationm 2"
   ]
  },
  {
   "cell_type": "code",
   "execution_count": 8,
   "metadata": {},
   "outputs": [],
   "source": [
    "def hessian_approx2(predt: np.ndarray, dtrain: xgb.DMatrix) -> np.ndarray:\n",
    "    '''Compute the hessian for squared log error.'''\n",
    "    y = dtrain.get_label()\n",
    "    return (np.power(np.log1p(predt) - np.log1p(y), 2)/\n",
    "            np.power(predt - y, 2))"
   ]
  },
  {
   "cell_type": "code",
   "execution_count": 9,
   "metadata": {},
   "outputs": [
    {
     "name": "stdout",
     "output_type": "stream",
     "text": [
      "[0]\tdtrain-MSLE:5.84439\tdtest-MSLE:5.91674\n",
      "[1]\tdtrain-MSLE:5.84437\tdtest-MSLE:5.91671\n",
      "[2]\tdtrain-MSLE:5.84434\tdtest-MSLE:5.91668\n",
      "[3]\tdtrain-MSLE:5.8443\tdtest-MSLE:5.91664\n",
      "[4]\tdtrain-MSLE:5.84427\tdtest-MSLE:5.91661\n",
      "[5]\tdtrain-MSLE:5.84424\tdtest-MSLE:5.91659\n",
      "[6]\tdtrain-MSLE:5.84421\tdtest-MSLE:5.91655\n",
      "[7]\tdtrain-MSLE:5.84418\tdtest-MSLE:5.91652\n",
      "[8]\tdtrain-MSLE:5.84415\tdtest-MSLE:5.9165\n",
      "[9]\tdtrain-MSLE:5.84412\tdtest-MSLE:5.91646\n"
     ]
    }
   ],
   "source": [
    "approx2 = evaluate(hessian_approx2)"
   ]
  }
 ],
 "metadata": {
  "kernelspec": {
   "display_name": "Python 3",
   "language": "python",
   "name": "python3"
  },
  "language_info": {
   "codemirror_mode": {
    "name": "ipython",
    "version": 3
   },
   "file_extension": ".py",
   "mimetype": "text/x-python",
   "name": "python",
   "nbconvert_exporter": "python",
   "pygments_lexer": "ipython3",
   "version": "3.6.9"
  }
 },
 "nbformat": 4,
 "nbformat_minor": 4
}
