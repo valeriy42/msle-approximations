{
 "cells": [
  {
   "cell_type": "markdown",
   "metadata": {},
   "source": [
    "# Boiler Plate\n",
    "\n",
    "Following the schema at https://xgboost.readthedocs.io/en/latest/tutorials/custom_metric_obj.html"
   ]
  },
  {
   "cell_type": "code",
   "execution_count": 1,
   "metadata": {},
   "outputs": [],
   "source": [
    "import numpy as np\n",
    "import xgboost as xgb\n",
    "from typing import Tuple\n",
    "import pandas as pd\n",
    "from sklearn.model_selection import train_test_split"
   ]
  },
  {
   "cell_type": "code",
   "execution_count": 2,
   "metadata": {},
   "outputs": [],
   "source": [
    "def msle(predt: np.ndarray, dtrain: xgb.DMatrix) -> Tuple[str, float]:\n",
    "    ''' Mean squared log error metric.'''\n",
    "    y = dtrain.get_label()\n",
    "    predt[predt < -1] = -1 + 1e-6\n",
    "    elements = np.power(np.log1p(y) - np.log1p(predt), 2)\n",
    "    return 'MSLE', float(np.mean(elements))\n",
    "\n",
    "def gradient_exact(predt: np.ndarray, dtrain: xgb.DMatrix) -> np.ndarray:\n",
    "    '''Compute the gradient squared log error.'''\n",
    "    y = dtrain.get_label()\n",
    "    return (np.log1p(predt) - np.log1p(y)) / (predt + 1)\n",
    "\n",
    "\n",
    "def evaluate(gradient, hessian):\n",
    "    \n",
    "    iteration = 0\n",
    "    def squared_log(predt: np.ndarray,\n",
    "                    dtrain: xgb.DMatrix) -> Tuple[np.ndarray, np.ndarray]:\n",
    "        '''Squared Log Error objective. A simplified version for RMSLE used as\n",
    "        objective function.\n",
    "        '''\n",
    "        predt[predt < -1] = -1 + 1e-6\n",
    "        grad = gradient(predt, dtrain)\n",
    "        hess = hessian(predt, dtrain)\n",
    "        print(\"Grad norm: {:.2E} Hess norm: {:.2E}\".format(np.linalg.norm(grad), np.linalg.norm(hess)))\n",
    "        return grad, hess\n",
    "    \n",
    "    results = {}\n",
    "\n",
    "    xgb.train({'tree_method': 'hist', 'seed': 1994,\n",
    "               'disable_default_eval_metric': 1, 'eta': 0.3, 'lambda': 0.0},\n",
    "              dtrain=dtrain,\n",
    "              num_boost_round=20,\n",
    "              obj=squared_log,\n",
    "              feval=msle,\n",
    "              evals=[(dtrain, 'dtrain'), (dtest, 'dtest')],\n",
    "              evals_result=results)\n",
    "    return results"
   ]
  },
  {
   "cell_type": "code",
   "execution_count": 3,
   "metadata": {},
   "outputs": [],
   "source": [
    "X = pd.read_csv('data/housesalesprediction/kc_house_data.csv')\n",
    "\n",
    "y = np.array(X['price'])\n",
    "\n",
    "X.drop(columns=['id', 'date', 'price', 'zipcode', 'lat', 'long', 'sqft_living15',\n",
    "       'sqft_lot15'], inplace=True) # the last once just to keep training faster\n",
    "\n",
    "X_train, X_test, y_train, y_test = train_test_split(X, y, test_size=0.2, random_state=42)\n",
    "\n",
    "dtrain = xgb.DMatrix(X_train, label=y_train)\n",
    "dtest = xgb.DMatrix(X_test, label=y_test)"
   ]
  },
  {
   "cell_type": "markdown",
   "metadata": {},
   "source": [
    "# Approximation using Taylor expension"
   ]
  },
  {
   "cell_type": "code",
   "execution_count": 4,
   "metadata": {},
   "outputs": [],
   "source": [
    "def hessian_taylor(predt: np.ndarray, dtrain: xgb.DMatrix) -> np.ndarray:\n",
    "    '''Compute the hessian for squared log error.'''\n",
    "    y = dtrain.get_label()\n",
    "    return ((-np.log1p(predt) + np.log1p(y) + 1) /\n",
    "            np.power(predt + 1, 2))"
   ]
  },
  {
   "cell_type": "code",
   "execution_count": 5,
   "metadata": {
    "scrolled": false
   },
   "outputs": [
    {
     "name": "stdout",
     "output_type": "stream",
     "text": [
      "Grad norm: 1.11E+03 Hess norm: 7.98E+02\n",
      "[0]\tdtrain-MSLE:153.897\tdtest-MSLE:154.235\n",
      "Grad norm: 8.51E+02 Hess norm: 4.80E+02\n",
      "[1]\tdtrain-MSLE:147.884\tdtest-MSLE:148.215\n",
      "Grad norm: 6.53E+02 Hess norm: 2.88E+02\n",
      "[2]\tdtrain-MSLE:141.999\tdtest-MSLE:142.323\n",
      "Grad norm: 5.01E+02 Hess norm: 1.74E+02\n",
      "[3]\tdtrain-MSLE:136.241\tdtest-MSLE:136.559\n",
      "Grad norm: 3.84E+02 Hess norm: 1.04E+02\n",
      "[4]\tdtrain-MSLE:130.611\tdtest-MSLE:130.922\n",
      "Grad norm: 2.95E+02 Hess norm: 6.29E+01\n",
      "[5]\tdtrain-MSLE:125.108\tdtest-MSLE:125.413\n",
      "Grad norm: 2.26E+02 Hess norm: 3.79E+01\n",
      "[6]\tdtrain-MSLE:119.732\tdtest-MSLE:120.03\n",
      "Grad norm: 1.73E+02 Hess norm: 2.28E+01\n",
      "[7]\tdtrain-MSLE:114.483\tdtest-MSLE:114.774\n",
      "Grad norm: 1.33E+02 Hess norm: 1.38E+01\n",
      "[8]\tdtrain-MSLE:109.36\tdtest-MSLE:109.645\n",
      "Grad norm: 1.02E+02 Hess norm: 8.29E+00\n",
      "[9]\tdtrain-MSLE:104.363\tdtest-MSLE:104.642\n",
      "Grad norm: 7.82E+01 Hess norm: 5.00E+00\n",
      "[10]\tdtrain-MSLE:99.4928\tdtest-MSLE:99.7644\n",
      "Grad norm: 6.00E+01 Hess norm: 3.02E+00\n",
      "[11]\tdtrain-MSLE:94.7479\tdtest-MSLE:95.013\n",
      "Grad norm: 4.60E+01 Hess norm: 1.82E+00\n",
      "[12]\tdtrain-MSLE:90.1284\tdtest-MSLE:90.387\n",
      "Grad norm: 3.53E+01 Hess norm: 1.10E+00\n",
      "[13]\tdtrain-MSLE:85.634\tdtest-MSLE:85.886\n",
      "Grad norm: 2.70E+01 Hess norm: 6.66E-01\n",
      "[14]\tdtrain-MSLE:81.2644\tdtest-MSLE:81.5098\n",
      "Grad norm: 2.07E+01 Hess norm: 4.03E-01\n",
      "[15]\tdtrain-MSLE:77.0193\tdtest-MSLE:77.258\n",
      "Grad norm: 1.59E+01 Hess norm: 2.44E-01\n",
      "[16]\tdtrain-MSLE:72.8982\tdtest-MSLE:73.1302\n",
      "Grad norm: 1.22E+01 Hess norm: 1.48E-01\n",
      "[17]\tdtrain-MSLE:68.9009\tdtest-MSLE:69.1264\n",
      "Grad norm: 9.33E+00 Hess norm: 8.95E-02\n",
      "[18]\tdtrain-MSLE:65.027\tdtest-MSLE:65.2459\n",
      "Grad norm: 7.15E+00 Hess norm: 5.43E-02\n",
      "[19]\tdtrain-MSLE:61.2762\tdtest-MSLE:61.4892\n"
     ]
    }
   ],
   "source": [
    "taylor = evaluate(gradient_exact, hessian_taylor)"
   ]
  },
  {
   "cell_type": "markdown",
   "metadata": {},
   "source": [
    "# Quadratic Apprixmation 1"
   ]
  },
  {
   "cell_type": "code",
   "execution_count": 6,
   "metadata": {},
   "outputs": [],
   "source": [
    "def hessian_approx1(predt: np.ndarray, dtrain: xgb.DMatrix) -> np.ndarray:\n",
    "    '''Compute the hessian for squared log error.'''\n",
    "    y = dtrain.get_label()\n",
    "    return 2*((np.log1p(predt) - np.log1p(y)) /\n",
    "            ((predt+1)*(predt-y)))"
   ]
  },
  {
   "cell_type": "code",
   "execution_count": 7,
   "metadata": {
    "scrolled": false
   },
   "outputs": [
    {
     "name": "stdout",
     "output_type": "stream",
     "text": [
      "Grad norm: 1.11E+03 Hess norm: 5.91E-03\n",
      "[0]\tdtrain-MSLE:4.30146\tdtest-MSLE:4.36443\n",
      "Grad norm: 4.38E-03 Hess norm: 2.34E-08\n",
      "[1]\tdtrain-MSLE:2.10803\tdtest-MSLE:2.15369\n",
      "Grad norm: 1.60E-03 Hess norm: 9.42E-09\n",
      "[2]\tdtrain-MSLE:1.28958\tdtest-MSLE:1.32605\n",
      "Grad norm: 8.83E-04 Hess norm: 5.75E-09\n",
      "[3]\tdtrain-MSLE:0.887646\tdtest-MSLE:0.918163\n",
      "Grad norm: 5.85E-04 Hess norm: 4.15E-09\n",
      "[4]\tdtrain-MSLE:0.663936\tdtest-MSLE:0.690234\n",
      "Grad norm: 4.32E-04 Hess norm: 3.29E-09\n",
      "[5]\tdtrain-MSLE:0.530095\tdtest-MSLE:0.553247\n",
      "Grad norm: 3.43E-04 Hess norm: 2.76E-09\n",
      "[6]\tdtrain-MSLE:0.446183\tdtest-MSLE:0.466911\n",
      "Grad norm: 2.87E-04 Hess norm: 2.41E-09\n",
      "[7]\tdtrain-MSLE:0.391831\tdtest-MSLE:0.410649\n",
      "Grad norm: 2.50E-04 Hess norm: 2.16E-09\n",
      "[8]\tdtrain-MSLE:0.355781\tdtest-MSLE:0.373068\n",
      "Grad norm: 2.25E-04 Hess norm: 1.98E-09\n",
      "[9]\tdtrain-MSLE:0.331437\tdtest-MSLE:0.347483\n",
      "Grad norm: 2.07E-04 Hess norm: 1.85E-09\n",
      "[10]\tdtrain-MSLE:0.314769\tdtest-MSLE:0.329799\n",
      "Grad norm: 1.94E-04 Hess norm: 1.75E-09\n",
      "[11]\tdtrain-MSLE:0.303232\tdtest-MSLE:0.317424\n",
      "Grad norm: 1.85E-04 Hess norm: 1.67E-09\n",
      "[12]\tdtrain-MSLE:0.295177\tdtest-MSLE:0.308674\n",
      "Grad norm: 1.78E-04 Hess norm: 1.60E-09\n",
      "[13]\tdtrain-MSLE:0.289514\tdtest-MSLE:0.302431\n",
      "Grad norm: 1.72E-04 Hess norm: 1.55E-09\n",
      "[14]\tdtrain-MSLE:0.285508\tdtest-MSLE:0.297941\n",
      "Grad norm: 1.68E-04 Hess norm: 1.51E-09\n",
      "[15]\tdtrain-MSLE:0.282662\tdtest-MSLE:0.294688\n",
      "Grad norm: 1.64E-04 Hess norm: 1.47E-09\n",
      "[16]\tdtrain-MSLE:0.280633\tdtest-MSLE:0.292316\n",
      "Grad norm: 1.62E-04 Hess norm: 1.44E-09\n",
      "[17]\tdtrain-MSLE:0.27918\tdtest-MSLE:0.290574\n",
      "Grad norm: 1.60E-04 Hess norm: 1.42E-09\n",
      "[18]\tdtrain-MSLE:0.278138\tdtest-MSLE:0.289288\n",
      "Grad norm: 1.58E-04 Hess norm: 1.40E-09\n",
      "[19]\tdtrain-MSLE:0.277388\tdtest-MSLE:0.288332\n"
     ]
    }
   ],
   "source": [
    "approx1 = evaluate(gradient_exact, hessian_approx1)"
   ]
  },
  {
   "cell_type": "markdown",
   "metadata": {},
   "source": [
    "# Quadratic Apprixmationm 2"
   ]
  },
  {
   "cell_type": "code",
   "execution_count": 8,
   "metadata": {},
   "outputs": [],
   "source": [
    "def gradient_approx2(predt: np.ndarray, dtrain: xgb.DMatrix) -> np.ndarray:\n",
    "    y = dtrain.get_label()\n",
    "    return np.square(np.log1p(predt) - np.log1p(y)) / (predt -y)\n",
    "\n",
    "def hessian_approx2(predt: np.ndarray, dtrain: xgb.DMatrix) -> np.ndarray:\n",
    "    '''Compute the hessian for squared log error.'''\n",
    "    y = dtrain.get_label()\n",
    "    return 2*(np.power(np.log1p(predt) - np.log1p(y), 2)/\n",
    "            np.power(predt - y, 2))"
   ]
  },
  {
   "cell_type": "code",
   "execution_count": 9,
   "metadata": {
    "scrolled": false
   },
   "outputs": [
    {
     "name": "stdout",
     "output_type": "stream",
     "text": [
      "Grad norm: 5.41E-02 Hess norm: 4.39E-07\n",
      "[0]\tdtrain-MSLE:5.23673\tdtest-MSLE:5.30556\n",
      "Grad norm: 1.54E-03 Hess norm: 1.14E-08\n",
      "[1]\tdtrain-MSLE:2.66142\tdtest-MSLE:2.71214\n",
      "Grad norm: 8.10E-04 Hess norm: 6.65E-09\n",
      "[2]\tdtrain-MSLE:1.67828\tdtest-MSLE:1.71946\n",
      "Grad norm: 5.31E-04 Hess norm: 4.87E-09\n",
      "[3]\tdtrain-MSLE:1.18058\tdtest-MSLE:1.21558\n",
      "Grad norm: 3.89E-04 Hess norm: 3.94E-09\n",
      "[4]\tdtrain-MSLE:0.893675\tdtest-MSLE:0.924294\n",
      "Grad norm: 3.07E-04 Hess norm: 3.37E-09\n",
      "[5]\tdtrain-MSLE:0.715103\tdtest-MSLE:0.742455\n",
      "Grad norm: 2.56E-04 Hess norm: 2.99E-09\n",
      "[6]\tdtrain-MSLE:0.598095\tdtest-MSLE:0.622928\n",
      "Grad norm: 2.23E-04 Hess norm: 2.73E-09\n",
      "[7]\tdtrain-MSLE:0.518501\tdtest-MSLE:0.541344\n",
      "Grad norm: 2.02E-04 Hess norm: 2.53E-09\n",
      "[8]\tdtrain-MSLE:0.46277\tdtest-MSLE:0.484017\n",
      "Grad norm: 1.88E-04 Hess norm: 2.38E-09\n",
      "[9]\tdtrain-MSLE:0.422824\tdtest-MSLE:0.442775\n",
      "Grad norm: 1.78E-04 Hess norm: 2.27E-09\n",
      "[10]\tdtrain-MSLE:0.393628\tdtest-MSLE:0.412515\n",
      "Grad norm: 1.72E-04 Hess norm: 2.18E-09\n",
      "[11]\tdtrain-MSLE:0.371927\tdtest-MSLE:0.389935\n",
      "Grad norm: 1.67E-04 Hess norm: 2.10E-09\n",
      "[12]\tdtrain-MSLE:0.355558\tdtest-MSLE:0.372835\n",
      "Grad norm: 1.64E-04 Hess norm: 2.05E-09\n",
      "[13]\tdtrain-MSLE:0.343048\tdtest-MSLE:0.359714\n",
      "Grad norm: 1.62E-04 Hess norm: 2.00E-09\n",
      "[14]\tdtrain-MSLE:0.333374\tdtest-MSLE:0.349527\n",
      "Grad norm: 1.61E-04 Hess norm: 1.96E-09\n",
      "[15]\tdtrain-MSLE:0.325811\tdtest-MSLE:0.341534\n",
      "Grad norm: 1.60E-04 Hess norm: 1.93E-09\n",
      "[16]\tdtrain-MSLE:0.319841\tdtest-MSLE:0.3352\n",
      "Grad norm: 1.59E-04 Hess norm: 1.90E-09\n",
      "[17]\tdtrain-MSLE:0.315087\tdtest-MSLE:0.330138\n",
      "Grad norm: 1.58E-04 Hess norm: 1.88E-09\n",
      "[18]\tdtrain-MSLE:0.311269\tdtest-MSLE:0.32606\n",
      "Grad norm: 1.58E-04 Hess norm: 1.86E-09\n",
      "[19]\tdtrain-MSLE:0.308181\tdtest-MSLE:0.322751\n"
     ]
    }
   ],
   "source": [
    "approx2 = evaluate(gradient_approx2, hessian_approx2)"
   ]
  },
  {
   "cell_type": "code",
   "execution_count": null,
   "metadata": {},
   "outputs": [],
   "source": []
  }
 ],
 "metadata": {
  "kernelspec": {
   "display_name": "Python 3",
   "language": "python",
   "name": "python3"
  },
  "language_info": {
   "codemirror_mode": {
    "name": "ipython",
    "version": 3
   },
   "file_extension": ".py",
   "mimetype": "text/x-python",
   "name": "python",
   "nbconvert_exporter": "python",
   "pygments_lexer": "ipython3",
   "version": "3.6.9"
  }
 },
 "nbformat": 4,
 "nbformat_minor": 4
}
